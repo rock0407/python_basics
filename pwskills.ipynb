{
 "cells": [
  {
   "cell_type": "markdown",
   "id": "442b8259-1b09-40ac-a4a2-86421c109df8",
   "metadata": {},
   "source": [
    "1. What is python and why it is popular?\n",
    "-> Python is a high-level, interpreted programming language that focuses on simplicity and readability. Its user-friendly nature and extensive features make it popular among beginners and experienced developers.\n",
    "The python is popular because of following key points:\n",
    "1)Rich Libraries and Frameworks\n",
    "2)Platform Independence\n",
    "3)Simple and Readable format\n",
    "4)OOPS based language\n",
    "5)Versatility\n",
    "6)Easy to Learn and Use"
   ]
  },
  {
   "cell_type": "markdown",
   "id": "5d798d16-17ce-482a-bd90-aaed25708bfd",
   "metadata": {},
   "source": [
    "2. What is an interpretor in python?\n",
    "-> An interpreter is a program that executes Python code line-by-line, converting the source code into machine-readable instructions. Python uses an interpreter instead of a compiler, allowing immediate execution and debugging.Common Python interpreters are CPython, PyPy, and Jython.\n"
   ]
  },
  {
   "cell_type": "markdown",
   "id": "efb28e00-7f4f-4ed6-aff6-56afc732f3cb",
   "metadata": {},
   "source": [
    "3. What are pre-defined keywords in Python?\n",
    "-> Python Keywords are some predefined and reserved words in Python that have special meanings. Keywords are used to define the syntax of the coding. The keyword cannot be used as an identifier, function, or variable name. \n",
    "example of keywords are if, else, while, return, True, False, and, or, etc."
   ]
  },
  {
   "cell_type": "markdown",
   "id": "a921e554-f112-41e5-975f-616339d9def4",
   "metadata": {},
   "source": [
    "4.Can keywords be used as variable names?\n",
    "-> No, keywords cannot be used as variable names because they are reserved for special syntax and behavior."
   ]
  },
  {
   "cell_type": "markdown",
   "id": "5a91972a-6478-44b9-b06c-a887eac4bd74",
   "metadata": {},
   "source": [
    "5. What is mutability in Python?\n",
    "-> Mutable Objects are of type Python list, Python dict, or Python set. Custom classes are generally mutable.\n",
    "   Immutable Objects are of in-built datatypes like int, float, bool, string, Unicode, and tuple also an immutable object can’t be changed \n",
    "   after it is created. \n"
   ]
  },
  {
   "cell_type": "markdown",
   "id": "eae8897b-e034-48a8-858d-d2cc7a042259",
   "metadata": {},
   "source": [
    "6. Why are lists mutable, but tuples are immutable?\n",
    "-> The design decision is based on optimization techniques.\n",
    "  Lists Allow modification since they are often used for dynamic and iterative data manipulation.\n",
    "  Tuyples Are immutable for performance reasons and to use as keys in dictionaries (hashable property)."
   ]
  },
  {
   "cell_type": "markdown",
   "id": "6798c91a-2a4a-41cb-9f97-90f594876d64",
   "metadata": {},
   "source": [
    "7. What is the difference between “==” and “is” operators in Python?\n",
    "-> (==) is the equality operator checks if the values of two objects are the same.\n",
    "\"is\" is the identity operator checks if two objects refer to the same memory location"
   ]
  },
  {
   "cell_type": "markdown",
   "id": "8bca2623-537b-4f9c-9a30-526d4c6f7ba5",
   "metadata": {},
   "source": [
    "8. What are logical operators in Python?\n",
    "-> Logical operators are used to perform logical operations in conditional expressions. The main logical operators in Python are-\n",
    "a)and: Returns True if both conditions are true.\n",
    "b)or: Returns True if at least one condition is true.\n",
    "c)not: Reverses the result of a condition (True becomes False, and vice versa).\n"
   ]
  },
  {
   "cell_type": "markdown",
   "id": "1603e68c-8a6e-4f2b-a173-35a6b651ad67",
   "metadata": {},
   "source": [
    "9. What is type casting in Python?\n",
    "-> Type casting in Python is the process of converting a variable from one data type to another.\n",
    " Examples of type casting includesd converting strings to integers or floats to integers."
   ]
  },
  {
   "cell_type": "markdown",
   "id": "67adf44b-aabc-4d3d-8170-cbe05feaf6a9",
   "metadata": {},
   "source": [
    "10. What is the difference between implicit and explicit type casting?\n",
    "-> Implicit Type Casting: Done automatically by Python when the interpreter converts a smaller data type to a larger data type without user intervention.\n",
    "Like as Converting an integer to a float during operations.\n",
    "Explicit Type Casting done manually by the programmer using functions like int(), float(), and str() to convert types."
   ]
  },
  {
   "cell_type": "markdown",
   "id": "b714374d-08bc-402d-84f6-dcc81472d764",
   "metadata": {},
   "source": [
    "11. What is the purpose of conditional statements in Python?\n",
    "-> Conditional statements are used to execute different blocks of code based on conditions. They allow the program to make decisions and perform actions accordingly, enabling dynamic behavior."
   ]
  },
  {
   "cell_type": "markdown",
   "id": "2ebf1c31-c90d-4b5a-8b4f-3598943796f0",
   "metadata": {},
   "source": [
    "12. How does the elif statement work?\n",
    "-> The elif statement in Python stands for \"else if.\" It is used to check multiple conditions sequentially.\n",
    "a)If the if condition is false, the program evaluates the elif conditions one by one until it finds a true condition.\n",
    "b)If none of the conditions are true, the else block (if present) is executed."
   ]
  },
  {
   "cell_type": "markdown",
   "id": "d9bfdf55-655f-4b7e-bc3f-00f5022793e2",
   "metadata": {},
   "source": [
    "13. The main difference between a for loop and a while loop is that a for loop is used when you know how many times to repeat a block of code, while a ---> The main difference between for loop and while loop is that for loop is used when you know how many times to repeat a block of code, while a while loop is used when you don't: \n",
    "For loop\n",
    "Used when you know the number of iterations. For example, if you want to check the grade of every student in a class, you would loop from 1 to the number of students.\n",
    "While loop\n",
    "Used when you don't know the number of iterations. For example, if you want to ask a user for a number between 1 and 10, you would keep asking \"while the number is not between 1 and 10\"."
   ]
  },
  {
   "cell_type": "markdown",
   "id": "8096350b-824c-481b-8084-cf936cf024bc",
   "metadata": {},
   "source": [
    "14. Describe a scenario where a while loop is more suitable than a for loop.\n",
    "-> A while loop is more suitable when the number of iterations is not predetermined and depends on a condition being true.\n",
    "Example: Reading user input until they enter a specific value (e.g., exit).\n"
   ]
  },
  {
   "cell_type": "code",
   "execution_count": 2,
   "id": "5c51f4c2-629f-47fb-bb4e-a3a1e2fed1e3",
   "metadata": {},
   "outputs": [
    {
     "name": "stdout",
     "output_type": "stream",
     "text": [
      "Hello, World!\n"
     ]
    }
   ],
   "source": [
    "#15. Write a Python program to print \"Hello, World!\"\n",
    "print(\"Hello, World!\")\n"
   ]
  },
  {
   "cell_type": "code",
   "execution_count": 5,
   "id": "52c3ab35-701b-4270-8e3a-58f6daa39b19",
   "metadata": {},
   "outputs": [
    {
     "name": "stdout",
     "output_type": "stream",
     "text": [
      "My name is Aaditya Mittal and I am 20 years old.\n"
     ]
    }
   ],
   "source": [
    "#16. Write a Python program that displays your name and age.\n",
    "name = \"Aaditya Mittal\"  \n",
    "age = 20  \n",
    "print(f\"My name is {name} and I am {age} years old.\")\n"
   ]
  },
  {
   "cell_type": "code",
   "execution_count": 6,
   "id": "e17882bd-a5a1-4075-a8d6-adcb9e32fbf5",
   "metadata": {},
   "outputs": [
    {
     "name": "stdout",
     "output_type": "stream",
     "text": [
      "['False', 'None', 'True', 'and', 'as', 'assert', 'async', 'await', 'break', 'class', 'continue', 'def', 'del', 'elif', 'else', 'except', 'finally', 'for', 'from', 'global', 'if', 'import', 'in', 'is', 'lambda', 'nonlocal', 'not', 'or', 'pass', 'raise', 'return', 'try', 'while', 'with', 'yield']\n"
     ]
    }
   ],
   "source": [
    "#17. Write code to print all the pre-defined keywords in Python using the keyword library.\n",
    "import keyword  \n",
    "print(keyword.kwlist)"
   ]
  },
  {
   "cell_type": "code",
   "execution_count": 10,
   "id": "ed3805eb-3523-45d3-b544-493434531bec",
   "metadata": {},
   "outputs": [
    {
     "name": "stdin",
     "output_type": "stream",
     "text": [
      "Enter a word:  if\n"
     ]
    },
    {
     "name": "stdout",
     "output_type": "stream",
     "text": [
      "if is a Python keyword.\n"
     ]
    }
   ],
   "source": [
    "#18. Write a program that checks if a given word is a Python keyword.\n",
    "import keyword  \n",
    "word = input(\"Enter a word: \")  \n",
    "if keyword.iskeyword(word):  \n",
    "    print(f\"{word} is a Python keyword.\")  \n",
    "else:  \n",
    "    print(f\"{word} is not a Python keyword.\")"
   ]
  },
  {
   "cell_type": "code",
   "execution_count": 11,
   "id": "c9e784a9-4aec-433b-8447-69e76273a602",
   "metadata": {},
   "outputs": [
    {
     "name": "stdout",
     "output_type": "stream",
     "text": [
      "Modified list: [1, 5, 3]\n",
      "Error while modifying tuple: 'tuple' object does not support item assignment\n"
     ]
    }
   ],
   "source": [
    "#19. Create a list and tuple in Python, and demonstrate how attempting to change an element works differently for each.\n",
    "my_list = [1, 2, 3]\n",
    "my_tuple = (1, 2, 3)\n",
    "\n",
    "my_list[1] = 5  \n",
    "print(\"Modified list:\", my_list)\n",
    "\n",
    "try:  \n",
    "    my_tuple[1] = 5  \n",
    "except TypeError as e:  \n",
    "    print(\"Error while modifying tuple:\", e)\n"
   ]
  },
  {
   "cell_type": "code",
   "execution_count": 14,
   "id": "c2041c5c-bbc6-4c2b-bc9f-9ff81a618168",
   "metadata": {},
   "outputs": [
    {
     "name": "stdout",
     "output_type": "stream",
     "text": [
      "([1, 2, 3, 4], (1, 2, 3, 4))\n"
     ]
    }
   ],
   "source": [
    "#20. Write a function to demonstrate the behavior of mutable and immutable arguments.\n",
    "def objects(mutable_obj, immutable_obj):\n",
    "    mutable_obj.append(4)  \n",
    "    immutable_obj += (4,)\n",
    "    return mutable_obj, immutable_obj\n",
    "list_obj = [1, 2, 3]  \n",
    "tuple_obj = (1, 2, 3)  \n",
    "print(objects(list_obj, tuple_obj))  \n"
   ]
  },
  {
   "cell_type": "code",
   "execution_count": 15,
   "id": "3e2d324b-45f9-4713-a925-133acf30c5f6",
   "metadata": {},
   "outputs": [
    {
     "name": "stdout",
     "output_type": "stream",
     "text": [
      "Both conditions are True (AND)\n",
      "At least one condition is True (OR)\n",
      "The condition is False (NOT)\n"
     ]
    }
   ],
   "source": [
    "#21. Write a program to demonstrate the use of logical operators.\n",
    "a = 10  \n",
    "b = 5  \n",
    "if a > b and b > 0:  \n",
    "    print(\"Both conditions are True (AND)\")  \n",
    "if a > 0 or b < 0:  \n",
    "    print(\"At least one condition is True (OR)\")  \n",
    "if not (a < b):  \n",
    "    print(\"The condition is False (NOT)\")\n"
   ]
  },
  {
   "cell_type": "code",
   "execution_count": null,
   "id": "953ef577-1c05-47f4-8754-92d9e5d3e61c",
   "metadata": {},
   "outputs": [],
   "source": [
    "# 22. Write a Python program to convert user input from string to integer, float, and boolean types.\n",
    "user_input = input(\"Enter a value: \")\n",
    "\r\n",
    "try:\r\n",
    "    int_value = int(user_inputger\r\n",
    "    print(\"Integer:\", int_value)\r\n",
    "except ValueError:\r\n",
    "    print(\"Cannot convert to an inteer.\")\r\n",
    "\r\n",
    "try:\r\n",
    "    float_value = float(use to float\r\n",
    "    print(\"Float:\", float_value)\r\n",
    "except ValueError:\r\n",
    "    print(\"Cannot convert t\n",
    "    ing to boolean\r\n",
    "bool_value = boresult in Falsne\r\n",
    "print(\"Boolea:\", bool_value)\r\n"
   ]
  },
  {
   "cell_type": "code",
   "execution_count": 3,
   "id": "c0599416-7905-4f03-a363-3b2c1d910b08",
   "metadata": {},
   "outputs": [
    {
     "name": "stdout",
     "output_type": "stream",
     "text": [
      "Integer list: [1, 2, 3]\n"
     ]
    }
   ],
   "source": [
    "#23. Write code to demonstrate type casting with list elements.\n",
    "string_list = [\"1\", \"2\", \"3\"]\n",
    "int_list = [int(i) for i in string_list]\n",
    "print(\"Integer list:\", int_list)\n"
   ]
  },
  {
   "cell_type": "code",
   "execution_count": 1,
   "id": "7fcac837-ca7a-4776-9fcd-767d9e745793",
   "metadata": {},
   "outputs": [
    {
     "name": "stdin",
     "output_type": "stream",
     "text": [
      "Enter a number:  10\n"
     ]
    },
    {
     "name": "stdout",
     "output_type": "stream",
     "text": [
      "The number is positive.\n"
     ]
    }
   ],
   "source": [
    "#24. Write a program that checks if a number is positive, negative, or zero.\n",
    "num = float(input(\"Enter a number: \"))\n",
    "\n",
    "if num > 0:\n",
    "    print(\"The number is positive.\")\n",
    "elif num < 0:\n",
    "    print(\"The number is negative.\")\n",
    "else:\n",
    "    print(\"The number is zero.\")"
   ]
  },
  {
   "cell_type": "code",
   "execution_count": 2,
   "id": "48a16d86-b735-4839-bfff-245d8d0157c7",
   "metadata": {},
   "outputs": [
    {
     "name": "stdout",
     "output_type": "stream",
     "text": [
      "1\n",
      "2\n",
      "3\n",
      "4\n",
      "5\n",
      "6\n",
      "7\n",
      "8\n",
      "9\n",
      "10\n"
     ]
    }
   ],
   "source": [
    "#25. Write a for loop to print numbers from 1 to 10.\n",
    "for i in range(1, 11):\n",
    "    print(i)"
   ]
  },
  {
   "cell_type": "code",
   "execution_count": 3,
   "id": "fde3f536-c0ca-4aba-bbdc-436fdc06bf9a",
   "metadata": {},
   "outputs": [
    {
     "name": "stdout",
     "output_type": "stream",
     "text": [
      "Sum of even numbers between 1 and 50: 650\n"
     ]
    }
   ],
   "source": [
    "#26. Write a Python program to find the sum of all even numbers between 1 and 50.\n",
    "even_sum = 0\n",
    "for num in range(1, 51):\n",
    "    if num % 2 == 0:\n",
    "        even_sum += num\n",
    "\n",
    "print(\"Sum of even numbers between 1 and 50:\", even_sum)\n"
   ]
  },
  {
   "cell_type": "code",
   "execution_count": 4,
   "id": "197925da-032d-4cb6-8f4b-49c2eb5b903c",
   "metadata": {},
   "outputs": [
    {
     "name": "stdin",
     "output_type": "stream",
     "text": [
      "Enter a string:  hello\n"
     ]
    },
    {
     "name": "stdout",
     "output_type": "stream",
     "text": [
      "Reversed string: olleh\n"
     ]
    }
   ],
   "source": [
    "#27. Write a program to reverse a string using a while loop.\n",
    "string = input(\"Enter a string: \")\n",
    "reversed_string = \"\"\n",
    "i = len(string) - 1\n",
    "\n",
    "while i >= 0:\n",
    "    reversed_string += string[i]\n",
    "    i -= 1\n",
    "print(\"Reversed string:\", reversed_string)"
   ]
  },
  {
   "cell_type": "code",
   "execution_count": 5,
   "id": "6a473f35-78ed-4001-9c27-9de9e0f9f4a6",
   "metadata": {},
   "outputs": [
    {
     "name": "stdin",
     "output_type": "stream",
     "text": [
      "Enter a number:  5\n"
     ]
    },
    {
     "name": "stdout",
     "output_type": "stream",
     "text": [
      "Factorial is: 120\n"
     ]
    }
   ],
   "source": [
    "#28. Write a Python program to calculate the factorial of a number provided by the user using a while loop.\n",
    "num = int(input(\"Enter a number: \"))\n",
    "factorial = 1\n",
    "\n",
    "if num < 0:\n",
    "    print(\"Factorial not defined for negative numbers.\")\n",
    "else:\n",
    "    while num > 0:\n",
    "        factorial *= num\n",
    "        num -= 1\n",
    "    print(\"Factorial is:\", factorial)"
   ]
  }
 ],
 "metadata": {
  "kernelspec": {
   "display_name": "venv",
   "language": "python",
   "name": "venv"
  },
  "language_info": {
   "codemirror_mode": {
    "name": "ipython",
    "version": 3
   },
   "file_extension": ".py",
   "mimetype": "text/x-python",
   "name": "python",
   "nbconvert_exporter": "python",
   "pygments_lexer": "ipython3",
   "version": "3.12.2"
  }
 },
 "nbformat": 4,
 "nbformat_minor": 5
}
